{
 "cells": [
  {
   "cell_type": "code",
   "execution_count": 2,
   "id": "3c9cb0da",
   "metadata": {},
   "outputs": [
    {
     "data": {
      "text/plain": [
       "[3, 8, 6, 5, 4]"
      ]
     },
     "execution_count": 2,
     "metadata": {},
     "output_type": "execute_result"
    }
   ],
   "source": [
    "def ascodds(list1):\n",
    "    odd =[]\n",
    "    for i in list1:\n",
    "        if i % 2:\n",
    "            odd.append(i)\n",
    "    odd = sorted(odd)\n",
    "\n",
    "    result = []\n",
    "    k = 0\n",
    "    for i in list1:\n",
    "        if i % 2:\n",
    "            result.append(odd[k])\n",
    "            k += 1\n",
    "        else:\n",
    "            result.append(i)\n",
    "    return result\n",
    "\n",
    "\n",
    "    #odd = [1,3,5,7,9]\n",
    "\n",
    "ascodds([5, 8, 6, 3, 4])"
   ]
  }
 ],
 "metadata": {
  "kernelspec": {
   "display_name": "Python 3",
   "language": "python",
   "name": "python3"
  },
  "language_info": {
   "codemirror_mode": {
    "name": "ipython",
    "version": 3
   },
   "file_extension": ".py",
   "mimetype": "text/x-python",
   "name": "python",
   "nbconvert_exporter": "python",
   "pygments_lexer": "ipython3",
   "version": "3.8.8"
  }
 },
 "nbformat": 4,
 "nbformat_minor": 5
}
