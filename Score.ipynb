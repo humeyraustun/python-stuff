{
 "cells": [
  {
   "cell_type": "code",
   "execution_count": 9,
   "id": "245b72c4",
   "metadata": {},
   "outputs": [
    {
     "name": "stdout",
     "output_type": "stream",
     "text": [
      "Enter a score: 0.58\n",
      "F\n"
     ]
    }
   ],
   "source": [
    "score = float(input('Enter a score: '))\n",
    "if 0.0 <= score <= 1.0 :\n",
    "  if score >= 0.9:\n",
    "    print('A')\n",
    "  elif score>=0.8:\n",
    "    print('B')\n",
    "  elif score >= 0.7 :\n",
    "    print('C')\n",
    "  elif score >=0.6:\n",
    "    print('D')\n",
    "  elif score < 0.6 :\n",
    "    print('F')\n",
    "else:\n",
    "  print('invalid input')"
   ]
  }
 ],
 "metadata": {
  "kernelspec": {
   "display_name": "Python 3",
   "language": "python",
   "name": "python3"
  },
  "language_info": {
   "codemirror_mode": {
    "name": "ipython",
    "version": 3
   },
   "file_extension": ".py",
   "mimetype": "text/x-python",
   "name": "python",
   "nbconvert_exporter": "python",
   "pygments_lexer": "ipython3",
   "version": "3.8.8"
  }
 },
 "nbformat": 4,
 "nbformat_minor": 5
}
