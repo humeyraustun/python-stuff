{
 "cells": [
  {
   "cell_type": "code",
   "execution_count": 6,
   "id": "a0c2da33",
   "metadata": {},
   "outputs": [
    {
     "name": "stdout",
     "output_type": "stream",
     "text": [
      "      *       \n",
      "     ***      \n",
      "    *****     \n",
      "   *******    \n",
      "  *********   \n",
      " ***********  \n",
      "************* \n"
     ]
    }
   ],
   "source": [
    "def tree (height):\n",
    "    for i in range ( 1, height*2, 2):\n",
    "        print ((i*\"*\").center(height*2))\n",
    "tree(7)"
   ]
  }
 ],
 "metadata": {
  "kernelspec": {
   "display_name": "Python 3",
   "language": "python",
   "name": "python3"
  },
  "language_info": {
   "codemirror_mode": {
    "name": "ipython",
    "version": 3
   },
   "file_extension": ".py",
   "mimetype": "text/x-python",
   "name": "python",
   "nbconvert_exporter": "python",
   "pygments_lexer": "ipython3",
   "version": "3.8.8"
  }
 },
 "nbformat": 4,
 "nbformat_minor": 5
}
