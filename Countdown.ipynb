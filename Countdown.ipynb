{
 "cells": [
  {
   "cell_type": "code",
   "execution_count": 9,
   "id": "a461a0a2",
   "metadata": {},
   "outputs": [
    {
     "data": {
      "text/plain": [
       "'3-2-1-READY!'"
      ]
     },
     "execution_count": 9,
     "metadata": {},
     "output_type": "execute_result"
    }
   ],
   "source": [
    "def countdown(n, sentence):\n",
    "    result = \"\"\n",
    "    for i in range (n, 0, -1):\n",
    "        result += str (i) + \"-\"\n",
    "    result += sentence.upper()+ \"!\" \n",
    "    return result\n",
    "countdown (3, \"ready\")"
   ]
  }
 ],
 "metadata": {
  "kernelspec": {
   "display_name": "Python 3",
   "language": "python",
   "name": "python3"
  },
  "language_info": {
   "codemirror_mode": {
    "name": "ipython",
    "version": 3
   },
   "file_extension": ".py",
   "mimetype": "text/x-python",
   "name": "python",
   "nbconvert_exporter": "python",
   "pygments_lexer": "ipython3",
   "version": "3.8.8"
  }
 },
 "nbformat": 4,
 "nbformat_minor": 5
}
