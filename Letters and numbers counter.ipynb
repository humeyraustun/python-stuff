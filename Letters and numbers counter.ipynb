{
 "cells": [
  {
   "cell_type": "code",
   "execution_count": 5,
   "id": "fe1e033b",
   "metadata": {},
   "outputs": [
    {
     "data": {
      "text/plain": [
       "' letters: 11, numbers: 4, others: 8'"
      ]
     },
     "execution_count": 5,
     "metadata": {},
     "output_type": "execute_result"
    }
   ],
   "source": [
    "def letter_num_counter(sentence):\n",
    "    L= 0\n",
    "    n=0\n",
    "    d=0\n",
    "    for i in sentence:\n",
    "        if i.isalpha():\n",
    "            L+=1\n",
    "        elif i.isdigit():\n",
    "            n+=1\n",
    "        else:\n",
    "            d +=1\n",
    "    return (f' letters: {L}, numbers: {n}, others: {d}')\n",
    "letter_num_counter(\"1 2 3 4! are you ready?\")"
   ]
  }
 ],
 "metadata": {
  "kernelspec": {
   "display_name": "Python 3",
   "language": "python",
   "name": "python3"
  },
  "language_info": {
   "codemirror_mode": {
    "name": "ipython",
    "version": 3
   },
   "file_extension": ".py",
   "mimetype": "text/x-python",
   "name": "python",
   "nbconvert_exporter": "python",
   "pygments_lexer": "ipython3",
   "version": "3.8.8"
  }
 },
 "nbformat": 4,
 "nbformat_minor": 5
}
