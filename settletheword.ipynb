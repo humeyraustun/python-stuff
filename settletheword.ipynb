{
 "cells": [
  {
   "cell_type": "code",
   "execution_count": 1,
   "id": "7267993b",
   "metadata": {},
   "outputs": [
    {
     "data": {
      "text/plain": [
       "['Ping', 'Pong', 'Ping', 'Pong', 'Ping', 'Pong', 'Ping', 'Pong']"
      ]
     },
     "execution_count": 1,
     "metadata": {},
     "output_type": "execute_result"
    }
   ],
   "source": [
    "def settletheworld(list1, bool):\n",
    "    edited = []\n",
    "    for i in list1:\n",
    "        edited.append(i)\n",
    "        edited.append(\"Pong\")\n",
    "    if bool:\n",
    "        return edited\n",
    "    else: \n",
    "        del edited [-1]\n",
    "        return edited\n",
    "    \n",
    "settletheworld([\"Ping\",\"Ping\",\"Ping\",\"Ping\"],True)\n",
    "        "
   ]
  }
 ],
 "metadata": {
  "kernelspec": {
   "display_name": "Python 3",
   "language": "python",
   "name": "python3"
  },
  "language_info": {
   "codemirror_mode": {
    "name": "ipython",
    "version": 3
   },
   "file_extension": ".py",
   "mimetype": "text/x-python",
   "name": "python",
   "nbconvert_exporter": "python",
   "pygments_lexer": "ipython3",
   "version": "3.8.8"
  }
 },
 "nbformat": 4,
 "nbformat_minor": 5
}
