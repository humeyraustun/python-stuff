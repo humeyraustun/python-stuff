{
 "cells": [
  {
   "cell_type": "raw",
   "id": "2f2f00ab",
   "metadata": {},
   "source": [
    "Let's write a function that multiplies each element in the list by its index and returns the sum.\n",
    "print(mult_sum([1,2,3,4,5,6,7,8,9,10])) --> 330"
   ]
  },
  {
   "cell_type": "code",
   "execution_count": 2,
   "id": "8c4102ca",
   "metadata": {},
   "outputs": [
    {
     "data": {
      "text/plain": [
       "2"
      ]
     },
     "execution_count": 2,
     "metadata": {},
     "output_type": "execute_result"
    }
   ],
   "source": [
    "def mult_sum(list):\n",
    "    sum = 0\n",
    "    for i in range(0,len(list)):\n",
    "        sum += i* list[i]\n",
    "    return sum\n",
    "mult_sum ([1,2])"
   ]
  }
 ],
 "metadata": {
  "kernelspec": {
   "display_name": "Python 3",
   "language": "python",
   "name": "python3"
  },
  "language_info": {
   "codemirror_mode": {
    "name": "ipython",
    "version": 3
   },
   "file_extension": ".py",
   "mimetype": "text/x-python",
   "name": "python",
   "nbconvert_exporter": "python",
   "pygments_lexer": "ipython3",
   "version": "3.8.8"
  }
 },
 "nbformat": 4,
 "nbformat_minor": 5
}
