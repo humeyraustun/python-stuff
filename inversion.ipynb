{
 "cells": [
  {
   "cell_type": "code",
   "execution_count": 4,
   "id": "80ba1fc4",
   "metadata": {},
   "outputs": [
    {
     "data": {
      "text/plain": [
       "'I dluow ekil ot eb tsitneicsataD'"
      ]
     },
     "execution_count": 4,
     "metadata": {},
     "output_type": "execute_result"
    }
   ],
   "source": [
    "def inversion(sentence):\n",
    "    lst= sentence.split()\n",
    "    new = \" \"\n",
    "    for i in lst :\n",
    "        new += i[::-1] + \" \"\n",
    "    return new.strip ()\n",
    "inversion( \"I would like to be Datascientist\")"
   ]
  }
 ],
 "metadata": {
  "kernelspec": {
   "display_name": "Python 3",
   "language": "python",
   "name": "python3"
  },
  "language_info": {
   "codemirror_mode": {
    "name": "ipython",
    "version": 3
   },
   "file_extension": ".py",
   "mimetype": "text/x-python",
   "name": "python",
   "nbconvert_exporter": "python",
   "pygments_lexer": "ipython3",
   "version": "3.8.8"
  }
 },
 "nbformat": 4,
 "nbformat_minor": 5
}
