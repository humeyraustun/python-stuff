{
 "cells": [
  {
   "cell_type": "code",
   "execution_count": 10,
   "id": "d9011ae7",
   "metadata": {},
   "outputs": [
    {
     "data": {
      "text/plain": [
       "' 9 1'"
      ]
     },
     "execution_count": 10,
     "metadata": {},
     "output_type": "execute_result"
    }
   ],
   "source": [
    "def min_max(num):\n",
    "    result = list(map(int, num.split()))\n",
    "    return f' {max(result)} {min(result)}'\n",
    "min_max(\"1 9 3 8 4 5 7\")"
   ]
  }
 ],
 "metadata": {
  "kernelspec": {
   "display_name": "Python 3",
   "language": "python",
   "name": "python3"
  },
  "language_info": {
   "codemirror_mode": {
    "name": "ipython",
    "version": 3
   },
   "file_extension": ".py",
   "mimetype": "text/x-python",
   "name": "python",
   "nbconvert_exporter": "python",
   "pygments_lexer": "ipython3",
   "version": "3.8.8"
  }
 },
 "nbformat": 4,
 "nbformat_minor": 5
}
