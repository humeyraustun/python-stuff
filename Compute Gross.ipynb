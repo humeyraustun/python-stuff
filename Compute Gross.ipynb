{
 "cells": [
  {
   "cell_type": "raw",
   "id": "47c2a31e",
   "metadata": {},
   "source": [
    "#  3. Write a program to prompt the user for hours and rate per hour using input to compute gross pay. Pay should be the normal rate for hours up to 40 and time-and-a-half for the hourly rate for all hours worked above 40 hours.\n",
    "\n"
   ]
  },
  {
   "cell_type": "code",
   "execution_count": 3,
   "id": "9b431cf6",
   "metadata": {},
   "outputs": [
    {
     "data": {
      "text/plain": [
       "95.0"
      ]
     },
     "execution_count": 3,
     "metadata": {},
     "output_type": "execute_result"
    }
   ],
   "source": [
    "def compute(hours, rate):\n",
    "    if hours > 40:\n",
    "        price = 40 * rate + (hours - 40) * rate * 1.5\n",
    "    else:\n",
    "        price = hours * rate\n",
    "    return price\n",
    "compute (45,2)"
   ]
  },
  {
   "cell_type": "code",
   "execution_count": null,
   "id": "bbc435a5",
   "metadata": {},
   "outputs": [],
   "source": []
  }
 ],
 "metadata": {
  "kernelspec": {
   "display_name": "Python 3",
   "language": "python",
   "name": "python3"
  },
  "language_info": {
   "codemirror_mode": {
    "name": "ipython",
    "version": 3
   },
   "file_extension": ".py",
   "mimetype": "text/x-python",
   "name": "python",
   "nbconvert_exporter": "python",
   "pygments_lexer": "ipython3",
   "version": "3.8.8"
  }
 },
 "nbformat": 4,
 "nbformat_minor": 5
}
