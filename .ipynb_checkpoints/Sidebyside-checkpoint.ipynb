{
 "cells": [
  {
   "cell_type": "code",
   "execution_count": 2,
   "id": "fa6490d3",
   "metadata": {},
   "outputs": [
    {
     "data": {
      "text/plain": [
       "False"
      ]
     },
     "execution_count": 2,
     "metadata": {},
     "output_type": "execute_result"
    }
   ],
   "source": [
    "def sidebyside(list):\n",
    "    for i in list:\n",
    "        if list. index (\"John\") == list.index(\"Asley\") or list.index (\"Asley\") == list.index(\"John\"):\n",
    "            return True\n",
    "        else:\n",
    "            return False\n",
    "sidebyside([\"John\", \"Asley\", \"Jack\"])"
   ]
  }
 ],
 "metadata": {
  "kernelspec": {
   "display_name": "Python 3",
   "language": "python",
   "name": "python3"
  },
  "language_info": {
   "codemirror_mode": {
    "name": "ipython",
    "version": 3
   },
   "file_extension": ".py",
   "mimetype": "text/x-python",
   "name": "python",
   "nbconvert_exporter": "python",
   "pygments_lexer": "ipython3",
   "version": "3.8.8"
  }
 },
 "nbformat": 4,
 "nbformat_minor": 5
}
