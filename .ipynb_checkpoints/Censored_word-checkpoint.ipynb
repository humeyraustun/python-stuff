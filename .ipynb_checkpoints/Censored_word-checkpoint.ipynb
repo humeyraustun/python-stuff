{
 "cells": [
  {
   "cell_type": "code",
   "execution_count": 3,
   "id": "d194966e",
   "metadata": {},
   "outputs": [
    {
     "name": "stdout",
     "output_type": "stream",
     "text": [
      "python\n"
     ]
    }
   ],
   "source": [
    "def censor(censored, vowels):\n",
    "    n=0\n",
    "    for i in censored:\n",
    "        if i ==\"*\":\n",
    "            censored= censored.replace (\"*\", vowels[n],1)\n",
    "            n+=1\n",
    "    return censored\n",
    "print (censor (\"pyth*n\", \"o\"))\n",
    "            "
   ]
  }
 ],
 "metadata": {
  "kernelspec": {
   "display_name": "Python 3",
   "language": "python",
   "name": "python3"
  },
  "language_info": {
   "codemirror_mode": {
    "name": "ipython",
    "version": 3
   },
   "file_extension": ".py",
   "mimetype": "text/x-python",
   "name": "python",
   "nbconvert_exporter": "python",
   "pygments_lexer": "ipython3",
   "version": "3.8.8"
  }
 },
 "nbformat": 4,
 "nbformat_minor": 5
}
