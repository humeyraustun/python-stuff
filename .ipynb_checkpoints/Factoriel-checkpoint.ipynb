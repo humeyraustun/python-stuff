{
 "cells": [
  {
   "cell_type": "code",
   "execution_count": 7,
   "id": "7155e698",
   "metadata": {},
   "outputs": [
    {
     "data": {
      "text/plain": [
       "24"
      ]
     },
     "execution_count": 7,
     "metadata": {},
     "output_type": "execute_result"
    }
   ],
   "source": [
    "def factoriel(number):\n",
    "  result = 1\n",
    "  i = 1\n",
    "  while i < number+1:\n",
    "    result *= i\n",
    "    i +=1\n",
    "  return result\n",
    "factoriel(4)"
   ]
  },
  {
   "cell_type": "code",
   "execution_count": 4,
   "id": "acc050fc",
   "metadata": {},
   "outputs": [
    {
     "data": {
      "text/plain": [
       "120"
      ]
     },
     "execution_count": 4,
     "metadata": {},
     "output_type": "execute_result"
    }
   ],
   "source": [
    "def factoriel(number):\n",
    "  result = 1\n",
    "  for i in range(1,number+1):\n",
    "    result*=i\n",
    "  return result\n",
    "factoriel(5)"
   ]
  }
 ],
 "metadata": {
  "kernelspec": {
   "display_name": "Python 3",
   "language": "python",
   "name": "python3"
  },
  "language_info": {
   "codemirror_mode": {
    "name": "ipython",
    "version": 3
   },
   "file_extension": ".py",
   "mimetype": "text/x-python",
   "name": "python",
   "nbconvert_exporter": "python",
   "pygments_lexer": "ipython3",
   "version": "3.8.8"
  }
 },
 "nbformat": 4,
 "nbformat_minor": 5
}
