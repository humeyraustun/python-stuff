{
 "cells": [
  {
   "cell_type": "code",
   "execution_count": 10,
   "id": "1a2b1f9f",
   "metadata": {},
   "outputs": [
    {
     "data": {
      "text/plain": [
       "26"
      ]
     },
     "execution_count": 10,
     "metadata": {},
     "output_type": "execute_result"
    }
   ],
   "source": [
    "def findtheword(sentence):\n",
    "    a = sentence.count(\"zip\")\n",
    "    if a < 2:\n",
    "        return -1\n",
    "    else:\n",
    "        b = sentence. split(\"zip\")\n",
    "        return len(b[0] + b[1]) \n",
    "findtheword(\"thewoldisnotjustzippedbutalsozip\")"
   ]
  }
 ],
 "metadata": {
  "kernelspec": {
   "display_name": "Python 3",
   "language": "python",
   "name": "python3"
  },
  "language_info": {
   "codemirror_mode": {
    "name": "ipython",
    "version": 3
   },
   "file_extension": ".py",
   "mimetype": "text/x-python",
   "name": "python",
   "nbconvert_exporter": "python",
   "pygments_lexer": "ipython3",
   "version": "3.8.8"
  }
 },
 "nbformat": 4,
 "nbformat_minor": 5
}
