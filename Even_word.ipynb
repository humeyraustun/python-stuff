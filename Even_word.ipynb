{
 "cells": [
  {
   "cell_type": "code",
   "execution_count": 4,
   "id": "0ca4eb70",
   "metadata": {},
   "outputs": [
    {
     "name": "stdout",
     "output_type": "stream",
     "text": [
      "True\n"
     ]
    }
   ],
   "source": [
    "def even_word (sentence):\n",
    "    lowers = \"abcçdefgğhıijklmnoöprsştuüvyz\"\n",
    "    sum = 0\n",
    "    for i in sentence.lower():\n",
    "        if i in lowers:\n",
    "            sum += lowers. index(i) +1\n",
    "    if sum %2 == 0:\n",
    "        return True\n",
    "    else:\n",
    "        return False\n",
    "print (even_word (\"abc\"))"
   ]
  },
  {
   "cell_type": "code",
   "execution_count": null,
   "id": "e9ba3366",
   "metadata": {},
   "outputs": [],
   "source": []
  }
 ],
 "metadata": {
  "kernelspec": {
   "display_name": "Python 3",
   "language": "python",
   "name": "python3"
  },
  "language_info": {
   "codemirror_mode": {
    "name": "ipython",
    "version": 3
   },
   "file_extension": ".py",
   "mimetype": "text/x-python",
   "name": "python",
   "nbconvert_exporter": "python",
   "pygments_lexer": "ipython3",
   "version": "3.8.8"
  }
 },
 "nbformat": 4,
 "nbformat_minor": 5
}
