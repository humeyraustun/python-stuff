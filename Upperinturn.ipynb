{
 "cells": [
  {
   "cell_type": "code",
   "execution_count": 6,
   "id": "cd855dc4",
   "metadata": {},
   "outputs": [
    {
     "data": {
      "text/plain": [
       "['İstanbul',\n",
       " 'İStanbul',\n",
       " 'İsTanbul',\n",
       " 'İstAnbul',\n",
       " 'İstaNbul',\n",
       " 'İstanBul',\n",
       " 'İstanbUl',\n",
       " 'İstanbuL']"
      ]
     },
     "execution_count": 6,
     "metadata": {},
     "output_type": "execute_result"
    }
   ],
   "source": [
    "def upperinturn(sentence):\n",
    "    result = []\n",
    "    for i in range (len (sentence)) : \n",
    "        if sentence[i].isalpha():\n",
    "            result.append(sentence[:i] + sentence[i].upper() + sentence[i +1 :])\n",
    "    return result\n",
    "upperinturn( \"İstanbul\")"
   ]
  }
 ],
 "metadata": {
  "kernelspec": {
   "display_name": "Python 3",
   "language": "python",
   "name": "python3"
  },
  "language_info": {
   "codemirror_mode": {
    "name": "ipython",
    "version": 3
   },
   "file_extension": ".py",
   "mimetype": "text/x-python",
   "name": "python",
   "nbconvert_exporter": "python",
   "pygments_lexer": "ipython3",
   "version": "3.8.8"
  }
 },
 "nbformat": 4,
 "nbformat_minor": 5
}
